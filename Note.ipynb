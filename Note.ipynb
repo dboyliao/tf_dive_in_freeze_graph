{
 "cells": [
  {
   "cell_type": "markdown",
   "metadata": {
    "slideshow": {
     "slide_type": "slide"
    }
   },
   "source": [
    "# Tensorflow and ProtocolBuffer\n",
    "\n",
    "## Object Serialization in Depth\n",
    "\n",
    "<br>\n",
    "<div>\n",
    "<h3><font color=#C7741B>Dboy Liao</font></h3>\n",
    "<ul>\n",
    "<li><font color=#DA8321>qmalliao@gmail.com </font></li>\n",
    "<li><a href=\"https://github.com/dboyliao\">https://github.com/dboyliao</a></li>\n",
    "<li><a href=\"https://www.facebook.com/dboyliao\">https://www.facebook.com/dboyliao</a></li>\n",
    "</ul>\n",
    "</div>"
   ]
  },
  {
   "cell_type": "markdown",
   "metadata": {
    "slideshow": {
     "slide_type": "subslide"
    }
   },
   "source": [
    "In this talk, I'll try to explain how `tensorflow` internally use `protobuf` as serialization tool and how serialized object works under the hook.\n",
    "\n",
    "If you are not familiar with `protobuf`, I wrote a simplified version of neural network serialization with `protobuf` over [here](https://medium.com/@dboyliao/簡介-google-protocol-buffer-1dd5fa2e1e69).\n",
    "\n",
    "Oh, It's written in chinese :P"
   ]
  },
  {
   "cell_type": "markdown",
   "metadata": {
    "slideshow": {
     "slide_type": "subslide"
    }
   },
   "source": [
    "## Typical Use Case\n",
    "\n",
    "- Training\n",
    "  - save session status with `tf.train.Saver.save`\n",
    "  - restore session with `tf.train.Saver.restore` for upcoming experiments\n",
    "\n",
    "\n",
    "- Deployment\n",
    "  - serve the model in a loadable binary format\n",
    "  - `tf.GraphDef` (is it a `tf.Graph`?)"
   ]
  },
  {
   "cell_type": "markdown",
   "metadata": {
    "slideshow": {
     "slide_type": "fragment"
    }
   },
   "source": [
    "Let's dive into the source code of `tensorflow`!"
   ]
  },
  {
   "cell_type": "markdown",
   "metadata": {
    "slideshow": {
     "slide_type": "slide"
    }
   },
   "source": [
    "### What does `tf.train.Saver.save` do?\n",
    "\n",
    "[source code](https://github.com/tensorflow/tensorflow/blob/master/tensorflow/python/training/saver.py#L1462)"
   ]
  },
  {
   "cell_type": "markdown",
   "metadata": {
    "slideshow": {
     "slide_type": "fragment"
    }
   },
   "source": [
    "Two required arguements:\n",
    "\n",
    "1. **sess** (`tf.Session`): a tensorflow Session object\n",
    "2. **save_path** (`str`): the path where to write model checkpoint files, used to generate files below\n",
    "  - **`(save_path)`-`(global_step)`.meta**\n",
    "  - **`(save_path)`.data-`(step)`-of-`(total)`**\n",
    "  - **`(save_path)`-`(global_step)`.index**"
   ]
  },
  {
   "cell_type": "markdown",
   "metadata": {
    "slideshow": {
     "slide_type": "subslide"
    }
   },
   "source": [
    "- **`.meta`** file --> `MetaGraphDef` protobuf file\n",
    "- **`.data-????-of-????`** and **`.index`** files --> protobuff file for restoring variables/tensors\n",
    "- In the `saver.save` call, `.data` and `.index` files are created with a `sess.run` call which will invoke an operation node, created by `saver`'s builder (See `Saver.__init__` for detail)\n",
    "- After that, a checkpoint path will be returned.\n",
    "\n",
    "![write_tensors](images/saver_write_tensors.png)"
   ]
  },
  {
   "cell_type": "markdown",
   "metadata": {
    "slideshow": {
     "slide_type": "subslide"
    }
   },
   "source": [
    "### MetaGraph\n",
    "\n",
    "Basically **`save_path`** is used to detemine:\n",
    "1. the path and prefix of saved files\n",
    "2. updating `checkpoint` file\n",
    "\n",
    "Once `tf.train.Saver` generate files for variables/tensors, it'll then export a **meta graph**\n",
    "\n",
    "The source code is as following:\n",
    "\n",
    "![saver-save](images/saver_save.png)\n",
    "\n",
    "\n",
    "`meta_graph_filename` is now something like `(save_path)-(global_step).meta`"
   ]
  },
  {
   "cell_type": "markdown",
   "metadata": {
    "slideshow": {
     "slide_type": "subslide"
    }
   },
   "source": [
    "\n",
    "### `tf.train.Saver.export_meta_graph`\n",
    "\n",
    "The source code is as following:\n",
    "\n",
    "![saver-export-meta](images/saver_export_meta_graph.png)"
   ]
  },
  {
   "cell_type": "markdown",
   "metadata": {
    "slideshow": {
     "slide_type": "subslide"
    }
   },
   "source": [
    "It's just a wrapper method for calling `export_meta_graph` function, which is defined in the same source file as `Saver`.\n",
    "\n",
    "<img alt=\"export-meta\" src=\"images/export_meta_graph.png\">"
   ]
  },
  {
   "cell_type": "markdown",
   "metadata": {
    "slideshow": {
     "slide_type": "subslide"
    }
   },
   "source": [
    "Basically, what `meta_graph.export_scoped_meta_graph` does is to construct an instance of `MetaGraphDef`, a class created by protobuf compiler, and save it to disk with standard `protobuf` API. I list a few `.proto` files below, check it out if you want to see the **definitions** for these protobuff objects.\n",
    "\n",
    "- [meta_graph.proto](https://github.com/tensorflow/tensorflow/blob/r1.3/tensorflow/core/protobuf/meta_graph.proto)\n",
    "- [saver.proto](https://github.com/tensorflow/tensorflow/blob/master/tensorflow/core/protobuf/saver.proto)\n",
    "- [graph.proto](https://github.com/tensorflow/tensorflow/blob/master/tensorflow/core/framework/graph.proto)\n",
    "- [node_def.proto](https://github.com/tensorflow/tensorflow/blob/master/tensorflow/core/framework/node_def.proto)\n",
    "- [tensor.proto](https://github.com/tensorflow/tensorflow/blob/master/tensorflow/core/framework/tensor.proto)\n",
    "\n",
    "There are many more of them, good luck!"
   ]
  },
  {
   "cell_type": "markdown",
   "metadata": {
    "slideshow": {
     "slide_type": "subslide"
    }
   },
   "source": [
    "So, the calling stacks to `export_meta_graph` will looks like this:\n",
    "```\n",
    "saver.export_meta_graph\n",
    "  --> export_meta_graph\n",
    "    --> meta_graph.export_scoped_meta_graph\n",
    "        1. build graph_def from default graph or given graph\n",
    "        2. create a meta_graph_def by the graph_def\n",
    "        3. save the meta_graph_def to disk (xxx.meta)\n",
    "```\n",
    "\n",
    "Similary, the calling stacks to `tf.train.import_meta_graph` will reverse above process as follwoing:\n",
    "```\n",
    "import_meta_grph\n",
    "  --> meta_graph.read_meta_graph_file to reconstruct MetaGraphDef object\n",
    "    --> meta_graph.import_scoped_meta_graph to construct a new Graph object\n",
    "      --> return a Saver object.\n",
    "```"
   ]
  },
  {
   "cell_type": "markdown",
   "metadata": {
    "slideshow": {
     "slide_type": "subslide"
    }
   },
   "source": [
    "Why returning a `Saver`? \n",
    "\n",
    "What is it for?"
   ]
  },
  {
   "cell_type": "markdown",
   "metadata": {
    "slideshow": {
     "slide_type": "fragment"
    }
   },
   "source": [
    "By now, we only reconstruct the graph from a metagraph and the variables in the graph are not yet initialized.\n",
    "\n",
    "So, the saver here is for initializing/restoring the value of all the tensors in the graph."
   ]
  },
  {
   "cell_type": "markdown",
   "metadata": {
    "slideshow": {
     "slide_type": "subslide"
    }
   },
   "source": [
    "### What does tf.Saver.restore do?\n",
    "\n",
    "Very simple, run the restore operation for a given session to restore the state of the session.\n",
    "\n",
    "![saver-restore](images/saver_restore.png)"
   ]
  },
  {
   "cell_type": "markdown",
   "metadata": {
    "slideshow": {
     "slide_type": "slide"
    }
   },
   "source": [
    "## Summary for Session Saving/Restoration\n",
    "\n",
    "1. Saving to Disk:\n",
    "  - `saver.save`\n",
    "    - saving tensor values to `.data` and `.index` file\n",
    "    - saving metagraph to `.meta`\n",
    "2. Restoration from Disk:\n",
    "  - restore metagraph, a graph consists of saver and graph\n",
    "    - `tf.train.import_meta_graph`\n",
    "  - restore session with restored saver\n",
    "    - `saver.restore`"
   ]
  },
  {
   "cell_type": "markdown",
   "metadata": {
    "collapsed": true,
    "slideshow": {
     "slide_type": "slide"
    }
   },
   "source": [
    "## You Graph, Freeze!\n",
    "\n",
    "As you can see, saving a session will create three files at a time, `.data`, `.index` and `.meta`.\n"
   ]
  },
  {
   "cell_type": "markdown",
   "metadata": {
    "slideshow": {
     "slide_type": "fragment"
    }
   },
   "source": [
    "It's convenient for prototyping, experiments..etc, but, as for me, I prefer saving my graph in a more compact format when I just want to *use* the graph (like running the trained graph in a mobile device). "
   ]
  },
  {
   "cell_type": "markdown",
   "metadata": {
    "slideshow": {
     "slide_type": "fragment"
    }
   },
   "source": [
    "Fortunately, `tensorflow` provides some util functions you can use to **freeze** your graph into a more compat format, with just *one* output file."
   ]
  },
  {
   "cell_type": "markdown",
   "metadata": {
    "slideshow": {
     "slide_type": "subslide"
    }
   },
   "source": [
    "### tensorflow.python.framework.graph_util.convert_variables_to_constants\n",
    "\n",
    "- As what its name suggests, `convert_variables_to_constant` will do two things:\n",
    "  1. `extract_sub_graph`: extract sub graph from given `GraphDef` using BFS (Breath First Search).\n",
    "  2. construct a new `GraphDef` object and copy the value of all variables in the input `GraphDef` in given session.\n",
    "\n",
    "![freeze-convert-const](images/convert_const.png)"
   ]
  },
  {
   "cell_type": "markdown",
   "metadata": {
    "slideshow": {
     "slide_type": "subslide"
    }
   },
   "source": [
    "The next step is simple, just save returned `GraphDef` object (`SerializeToString`):\n",
    "\n",
    "![save-graphdef](images/save_graph_def.png)"
   ]
  },
  {
   "cell_type": "markdown",
   "metadata": {
    "slideshow": {
     "slide_type": "fragment"
    }
   },
   "source": [
    "Then load the graph as following:\n",
    "\n",
    "![load-graphdef](images/load_graph_def.png)"
   ]
  },
  {
   "cell_type": "markdown",
   "metadata": {
    "slideshow": {
     "slide_type": "subslide"
    }
   },
   "source": [
    "### `tf.import_graph_def`\n",
    "\n",
    "The source code is meaty, let me just summarize the core steps here:\n",
    "\n",
    "1. Use **`tf.Graph.create_op`** to create/copy `Operation`s defined in given `GraphDef` into new graph object. [create_op](https://www.tensorflow.org/api_docs/python/tf/Graph#create_op)\n",
    "2. Link all nodes together according to attribute value, `inputs`, defined in `node_def.proto`. ([source code](https://github.com/tensorflow/tensorflow/blob/master/tensorflow/core/framework/node_def.proto))\n",
    "  - Add inputs with `tf.Graph._add_control_input` or `tf.Graph._add_input`\n",
    "  - Setup shapes for non-function operation node.\n",
    "![import-graph-def-core](images/import_graph_def_core.png)"
   ]
  },
  {
   "cell_type": "markdown",
   "metadata": {
    "slideshow": {
     "slide_type": "subslide"
    }
   },
   "source": [
    "#### Step 1\n",
    "\n",
    "![import-graph-def-1](images/import_graph_def_1.png)"
   ]
  },
  {
   "cell_type": "markdown",
   "metadata": {
    "slideshow": {
     "slide_type": "subslide"
    }
   },
   "source": [
    "#### Step 2\n",
    "\n",
    "<img alt=\"import-graph-def-2\" src=\"images/import_graph_def_2.png\" height=\"500\" width='500'>"
   ]
  },
  {
   "cell_type": "markdown",
   "metadata": {
    "slideshow": {
     "slide_type": "subslide"
    }
   },
   "source": [
    "My demo is about showing you how to serve your graph the **hard** way\n",
    "\n",
    "You can simply use util scripts provided by `tensorflow`, [freeze_graph.py](https://github.com/tensorflow/tensorflow/blob/master/tensorflow/python/tools/freeze_graph.py).\n",
    "\n",
    "By now, you should be able to understand what is going on in that script."
   ]
  },
  {
   "cell_type": "markdown",
   "metadata": {
    "slideshow": {
     "slide_type": "slide"
    }
   },
   "source": [
    "# Thanks for Your Attention"
   ]
  },
  {
   "cell_type": "markdown",
   "metadata": {
    "slideshow": {
     "slide_type": "subslide"
    }
   },
   "source": [
    "## Q&A"
   ]
  }
 ],
 "metadata": {
  "celltoolbar": "Slideshow",
  "kernelspec": {
   "display_name": "Python 3",
   "language": "python",
   "name": "python3"
  },
  "language_info": {
   "codemirror_mode": {
    "name": "ipython",
    "version": 3
   },
   "file_extension": ".py",
   "mimetype": "text/x-python",
   "name": "python",
   "nbconvert_exporter": "python",
   "pygments_lexer": "ipython3",
   "version": "3.6.2"
  }
 },
 "nbformat": 4,
 "nbformat_minor": 2
}
