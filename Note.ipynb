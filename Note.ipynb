{
 "cells": [
  {
   "cell_type": "markdown",
   "metadata": {},
   "source": [
    "### What does `tf.train.Saver.save` do?\n",
    "\n",
    "```{python}\n",
    "tf.train.Saver.save(self, sess, save_path, global_step=None, latest_filename=None, meta_graph_suffix='meta', write_meta_graph=True, write_state=True)\n",
    "```\n",
    "\n",
    "[source code](https://github.com/tensorflow/tensorflow/blob/master/tensorflow/python/training/saver.py)\n",
    "\n",
    "Two required arguements:\n",
    "\n",
    "1. sess (`tf.Session`): a tensorflow Session object\n",
    "2. save_path (`str`): the path where to write model checkpoint files, used to generate files below\n",
    "  - **`(save_path)`-`(global_step)`.meta**\n",
    "  - **`(save_path)`.data-`(step)`-of-`(total)`**\n",
    "  - **`(save_path)`-`(global_step)`.index**\n",
    "\n",
    "`.meta` file --> protobuf file `MetaGraphDef`\n",
    "\n",
    "`.data-????-of-????` and `.index` files --> protobuff file for restoring variables\n",
    "  \n",
    "Basically `save_path` is used to detemine:\n",
    "1. the path and prefix of saved files\n",
    "2. updating `checkpoint` file\n",
    "\n",
    "Once `tf.train.Saver` generate file names according to `save_path` and `global_step`, it moves to export **meta graph**\n",
    "\n",
    "The source code is as following:\n",
    "\n",
    "![saver-save](images/saver_save.png)\n",
    "\n",
    "\n",
    "`meta_graph_filename` is now something like `(save_path)-(global_step).meta`"
   ]
  },
  {
   "cell_type": "markdown",
   "metadata": {},
   "source": [
    "----\n",
    "\n",
    "### `tf.train.Saver.export_meta_graph`\n",
    "\n",
    "```tf.train.Saver.export_meta_graph(self, filename=None, collection_list=None, as_text=False, export_scope=None, clear_devices=False)\n",
    "```\n",
    "\n",
    "The source code is as following:\n",
    "\n",
    "![saver-export-meta](images/saver_export_meta_graph.png)\n",
    "\n",
    "As you can see, it's just a wrapper method for calling `export_meta_graph` function, which is defined in the same source file.\n",
    "\n",
    "![export-meta](images/export_meta_graph.png)\n",
    "\n",
    "Again, a wrapped call to `meta_graph.export_scoped_meta_graph`.\n",
    "\n",
    "----"
   ]
  },
  {
   "cell_type": "markdown",
   "metadata": {},
   "source": [
    "The source code of `meta_graph.export_scoped_meta_graph` though is not long but requires famililarity with `ProtocolBuffer`, a serailization tool developed by Google. I'll not explain it in this note but you can check those `.proto` files listed below to see the **definitions** for these protobuff objects.\n",
    "\n",
    "- [meta_graph.proto](https://github.com/tensorflow/tensorflow/blob/r1.3/tensorflow/core/protobuf/meta_graph.proto)\n",
    "- [saver.proto](https://github.com/tensorflow/tensorflow/blob/master/tensorflow/core/protobuf/saver.proto)\n",
    "- [graph.proto](https://github.com/tensorflow/tensorflow/blob/master/tensorflow/core/framework/graph.proto)\n",
    "- [node_def.proto](https://github.com/tensorflow/tensorflow/blob/master/tensorflow/core/framework/node_def.proto)\n",
    "\n",
    "There are many more of them, good luck!\n",
    "\n",
    "Conceptually, what `meta_graph.export_scoped_meta_graph` does is that exporting data (saver version, op names, ...etc) which can be used to restore the metagraph, which can be used to restore a computational graph. Like this:\n",
    "\n",
    "```\n",
    "export_meta_graph\n",
    "  --> meta_graph.export_scoped_meta_graph\n",
    "    --> build graph_def from default graph or given graph\n",
    "       -->create a meta_graph_def by the graph_def\n",
    "         --> save the meta_graph_def to disk (xxx.meta)\n",
    "```\n",
    "\n",
    "Similary, the method call to `tf.train.import_meta_graph` will reverse above process as follwoing:\n",
    "\n",
    "```\n",
    "import_meta_grph\n",
    "  --> meta_graph.read_meta_graph_file to reconstruct meta_graph_def protobuf object\n",
    "    --> meta_graph.import_scoped_meta_graph to reconstruct the graph object\n",
    "      --> return a saver which can be used to restore the session\n",
    "```\n",
    "\n",
    "Why returning a saver? What is it for?\n",
    "\n",
    "Well, we can only reconstruct the graph from a meta graph and the variables in the graph are not yet initialized.\n",
    "\n",
    "\n",
    "\n",
    "---"
   ]
  },
  {
   "cell_type": "markdown",
   "metadata": {},
   "source": [
    "### What does tf.Saver.restore do?\n",
    "\n",
    "Very simple, run the restore operation for a given session to restore the state of the session.\n",
    "\n",
    "![saver-restore](images/saver_restore.png)"
   ]
  },
  {
   "cell_type": "code",
   "execution_count": null,
   "metadata": {
    "collapsed": true
   },
   "outputs": [],
   "source": []
  }
 ],
 "metadata": {
  "kernelspec": {
   "display_name": "Python 3",
   "language": "python",
   "name": "python3"
  },
  "language_info": {
   "codemirror_mode": {
    "name": "ipython",
    "version": 3
   },
   "file_extension": ".py",
   "mimetype": "text/x-python",
   "name": "python",
   "nbconvert_exporter": "python",
   "pygments_lexer": "ipython3",
   "version": "3.6.1"
  }
 },
 "nbformat": 4,
 "nbformat_minor": 2
}
