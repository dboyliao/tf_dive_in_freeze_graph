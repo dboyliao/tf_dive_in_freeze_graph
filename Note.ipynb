{
 "cells": [
  {
   "cell_type": "markdown",
   "metadata": {
    "slideshow": {
     "slide_type": "slide"
    }
   },
   "source": [
    "## Tensorflow and ProtocolBuffer\n",
    "\n",
    "In this talk, I'll try to explain how `tensorflow` internally use `protobuf` as serialization tool and how serialized object works under the hook.\n",
    "\n",
    "If you are not familiar with `protobuf`, I wrote a simplified version of neural network serialization with `protobuf` over [here](https://medium.com/@dboyliao/簡介-google-protocol-buffer-1dd5fa2e1e69).\n",
    "\n",
    "Oh, It's written in chinese :P\n",
    "\n",
    "Let's dive into the source code of `tensorflow`!"
   ]
  },
  {
   "cell_type": "markdown",
   "metadata": {
    "slideshow": {
     "slide_type": "slide"
    }
   },
   "source": [
    "### What does `tf.train.Saver.save` do?\n",
    "\n",
    "```\n",
    "tf.train.Saver.save(self, sess, save_path, global_step=None, latest_filename=None, meta_graph_suffix='meta', write_meta_graph=True, write_state=True)\n",
    "```\n",
    "\n",
    "[source code](https://github.com/tensorflow/tensorflow/blob/master/tensorflow/python/training/saver.py)\n",
    "\n",
    "Two required arguements:\n",
    "\n",
    "1. sess (`tf.Session`): a tensorflow Session object\n",
    "2. save_path (`str`): the path where to write model checkpoint files, used to generate files below\n",
    "  - **`(save_path)`-`(global_step)`.meta**\n",
    "  - **`(save_path)`.data-`(step)`-of-`(total)`**\n",
    "  - **`(save_path)`-`(global_step)`.index**"
   ]
  },
  {
   "cell_type": "markdown",
   "metadata": {
    "slideshow": {
     "slide_type": "subslide"
    }
   },
   "source": [
    "- `.meta` file --> protobuf file `MetaGraphDef`\n",
    "- `.data-????-of-????` and `.index` files --> protobuff file for restoring variables\n",
    "- In the `saver.save` call, `.data` and `.index` files are created with a call to `sess.run` which will invoke an operation node build by `saver`'s builder (See `Saver.__init__` for detail)\n",
    "- After that, a checkpoint path will be returned.\n",
    "\n",
    "![write_tensors](images/saver_write_tensors.png)"
   ]
  },
  {
   "cell_type": "markdown",
   "metadata": {
    "slideshow": {
     "slide_type": "subslide"
    }
   },
   "source": [
    "### MetaGraph\n",
    "\n",
    "Basically `save_path` is used to detemine:\n",
    "1. the path and prefix of saved files\n",
    "2. updating `checkpoint` file\n",
    "\n",
    "Once `tf.train.Saver` generate file names according to `save_path` and `global_step`, it moves to export **meta graph**\n",
    "\n",
    "The source code is as following:\n",
    "\n",
    "![saver-save](images/saver_save.png)\n",
    "\n",
    "\n",
    "`meta_graph_filename` is now something like `(save_path)-(global_step).meta`"
   ]
  },
  {
   "cell_type": "markdown",
   "metadata": {
    "slideshow": {
     "slide_type": "subslide"
    }
   },
   "source": [
    "\n",
    "### `tf.train.Saver.export_meta_graph`\n",
    "\n",
    "```\n",
    "tf.train.Saver.export_meta_graph(self, filename=None, collection_list=None, as_text=False, export_scope=None, clear_devices=False)\n",
    "```\n",
    "\n",
    "The source code is as following:\n",
    "\n",
    "![saver-export-meta](images/saver_export_meta_graph.png)"
   ]
  },
  {
   "cell_type": "markdown",
   "metadata": {
    "slideshow": {
     "slide_type": "subslide"
    }
   },
   "source": [
    "As you can see, it's just a wrapper method for calling `export_meta_graph` function, which is defined in the same source file.\n",
    "\n",
    "![export-meta](images/export_meta_graph.png)\n",
    "\n",
    "Again, a wrapped call to `meta_graph.export_scoped_meta_graph`."
   ]
  },
  {
   "cell_type": "markdown",
   "metadata": {
    "slideshow": {
     "slide_type": "subslide"
    }
   },
   "source": [
    "Basically, what the source code of `meta_graph.export_scoped_meta_graph` do is to construct an instance of `MetaGraphDef`, a class created by protobuf compiler, and save it to disk with standard `protobuf` API. I list a few `.proto` files below, check it out if you want to see the **definitions** for these protobuff objects.\n",
    "\n",
    "- [meta_graph.proto](https://github.com/tensorflow/tensorflow/blob/r1.3/tensorflow/core/protobuf/meta_graph.proto)\n",
    "- [saver.proto](https://github.com/tensorflow/tensorflow/blob/master/tensorflow/core/protobuf/saver.proto)\n",
    "- [graph.proto](https://github.com/tensorflow/tensorflow/blob/master/tensorflow/core/framework/graph.proto)\n",
    "- [node_def.proto](https://github.com/tensorflow/tensorflow/blob/master/tensorflow/core/framework/node_def.proto)\n",
    "\n",
    "There are many more of them, good luck!"
   ]
  },
  {
   "cell_type": "markdown",
   "metadata": {
    "slideshow": {
     "slide_type": "subslide"
    }
   },
   "source": [
    "So, the call stacks to `export_meta_graph` will looks like this:\n",
    "```\n",
    "export_meta_graph\n",
    "  --> meta_graph.export_scoped_meta_graph\n",
    "    --> build graph_def from default graph or given graph\n",
    "       -->create a meta_graph_def by the graph_def\n",
    "         --> save the meta_graph_def to disk (xxx.meta)\n",
    "```\n",
    "\n",
    "Similary, the call stacks to `tf.train.import_meta_graph` will reverse above process as follwoing:\n",
    "```\n",
    "import_meta_grph\n",
    "  --> meta_graph.read_meta_graph_file to reconstruct meta_graph_def protobuf object\n",
    "    --> meta_graph.import_scoped_meta_graph to reconstruct the graph object\n",
    "      --> return a saver which can be used to restore the session\n",
    "```\n",
    "\n",
    "Why returning a saver? What is it for?\n",
    "\n",
    "Well, we can only reconstruct the graph from a metagraph and the variables in the graph are not yet initialized.\n",
    "\n",
    "So the saver here is for initializing (restoring) the value of all the tensors in the graph."
   ]
  },
  {
   "cell_type": "markdown",
   "metadata": {
    "slideshow": {
     "slide_type": "subslide"
    }
   },
   "source": [
    "### What does tf.Saver.restore do?\n",
    "\n",
    "Very simple, run the restore operation for a given session to restore the state of the session.\n",
    "\n",
    "![saver-restore](images/saver_restore.png)"
   ]
  },
  {
   "cell_type": "markdown",
   "metadata": {
    "slideshow": {
     "slide_type": "slide"
    }
   },
   "source": [
    "## Simple Summary for Session Saving/Restoration\n",
    "\n",
    "1. Saving to Disk:\n",
    "  - `saver.save`\n",
    "    - saving tensor values to `.data` and `.index` file\n",
    "    - saving metagraph to `.meta`\n",
    "2. Restoration from Disk:\n",
    "  - restore metagraph, a graph consists of saver and graph\n",
    "    - `tf.train.import_meta_graph`\n",
    "  - restore session with restored saver\n",
    "    - `saver.restore`"
   ]
  },
  {
   "cell_type": "markdown",
   "metadata": {
    "collapsed": true,
    "slideshow": {
     "slide_type": "slide"
    }
   },
   "source": [
    "## You Graph, Freeze!\n",
    "\n",
    "As you can see, saving a session will create three files at a time, `.data`, `.index` and `.meta`.\n",
    "\n",
    "It's convenient for prototyping, experiments..etc, but, as for me, I prefer saving my graph in a more compact format when I just want to *use* the graph (like running the trained graph in mobile device). \n",
    "\n",
    "Fortunately, `tensorflow` provides some util functions you can use to **freeze** your graph into a more compat format, with just *one* output file."
   ]
  },
  {
   "cell_type": "markdown",
   "metadata": {
    "slideshow": {
     "slide_type": "subslide"
    }
   },
   "source": [
    "### tensorflow.python.framework.graph_util.convert_variables_to_constants\n",
    "\n",
    "- As what its name suggests, `convert_variables_to_constant` will do two things:\n",
    "  1. `extract_sub_graph`: extract sub graph from given `GraphDef` using BFS (Breath First Search).\n",
    "  2. construct a new `GraphDef` object and copy the value of all variables in the input `GraphDef` in given session.\n",
    "\n",
    "![freeze-convert-const](images/convert_const.png)"
   ]
  },
  {
   "cell_type": "markdown",
   "metadata": {
    "slideshow": {
     "slide_type": "subslide"
    }
   },
   "source": [
    "The next step is simple, just save returned `GraphDef` object (`SerializeToString`):\n",
    "\n",
    "![save-graphdef](images/save_graph_def.png)"
   ]
  },
  {
   "cell_type": "markdown",
   "metadata": {
    "slideshow": {
     "slide_type": "fragment"
    }
   },
   "source": [
    "Then load the graph as following:\n",
    "\n",
    "![load-graphdef](images/load_graph_def.png)"
   ]
  },
  {
   "cell_type": "markdown",
   "metadata": {
    "slideshow": {
     "slide_type": "subslide"
    }
   },
   "source": [
    "My demo is about showing you how to serve your graph the **hard** way\n",
    "\n",
    "You can simply use util scripts provided by `tensorflow`, [freeze_graph.py](https://github.com/tensorflow/tensorflow/blob/master/tensorflow/python/tools/freeze_graph.py).\n",
    "\n",
    "But by now, you should be able to understand what is going on in that script."
   ]
  },
  {
   "cell_type": "markdown",
   "metadata": {
    "slideshow": {
     "slide_type": "slide"
    }
   },
   "source": [
    "# Thanks for Your Attension"
   ]
  },
  {
   "cell_type": "markdown",
   "metadata": {
    "slideshow": {
     "slide_type": "subslide"
    }
   },
   "source": [
    "## Q&A"
   ]
  }
 ],
 "metadata": {
  "celltoolbar": "Slideshow",
  "kernelspec": {
   "display_name": "Python 3",
   "language": "python",
   "name": "python3"
  },
  "language_info": {
   "codemirror_mode": {
    "name": "ipython",
    "version": 3
   },
   "file_extension": ".py",
   "mimetype": "text/x-python",
   "name": "python",
   "nbconvert_exporter": "python",
   "pygments_lexer": "ipython3",
   "version": "3.6.2"
  }
 },
 "nbformat": 4,
 "nbformat_minor": 2
}
